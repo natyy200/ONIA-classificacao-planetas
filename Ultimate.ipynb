{
  "nbformat": 4,
  "nbformat_minor": 0,
  "metadata": {
    "colab": {
      "provenance": []
    },
    "kernelspec": {
      "name": "python3",
      "display_name": "Python 3"
    },
    "language_info": {
      "name": "python"
    }
  },
  "cells": [
    {
      "cell_type": "code",
      "source": [
        "# instalar catboost (Colab-google)\n",
        "# biblioteca externa\n",
        "!pip install catboost"
      ],
      "metadata": {
        "id": "kKXPEAq0BLVk"
      },
      "execution_count": null,
      "outputs": []
    },
    {
      "cell_type": "code",
      "execution_count": 2,
      "metadata": {
        "colab": {
          "base_uri": "https://localhost:8080/",
          "height": 1000
        },
        "id": "5l8yDfvJAmFr",
        "outputId": "5588aa2f-399b-42b3-e19b-7b58db13130f"
      },
      "outputs": [
        {
          "output_type": "stream",
          "name": "stderr",
          "text": [
            "/usr/local/lib/python3.11/dist-packages/sklearn/model_selection/_search.py:317: UserWarning: The total space of parameters 1 is smaller than n_iter=4. Running 1 iterations. For exhaustive searches, use GridSearchCV.\n",
            "  warnings.warn(\n",
            "/usr/local/lib/python3.11/dist-packages/xgboost/core.py:158: UserWarning: [17:34:59] WARNING: /workspace/src/learner.cc:740: \n",
            "Parameters: { \"use_label_encoder\" } are not used.\n",
            "\n",
            "  warnings.warn(smsg, UserWarning)\n"
          ]
        },
        {
          "output_type": "stream",
          "name": "stdout",
          "text": [
            "XGBoost - Melhor configuração: {'n_estimators': 200, 'max_depth': 10, 'learning_rate': 0.2}\n"
          ]
        },
        {
          "output_type": "stream",
          "name": "stderr",
          "text": [
            "/usr/local/lib/python3.11/dist-packages/sklearn/model_selection/_search.py:317: UserWarning: The total space of parameters 1 is smaller than n_iter=4. Running 1 iterations. For exhaustive searches, use GridSearchCV.\n",
            "  warnings.warn(\n",
            "/usr/local/lib/python3.11/dist-packages/sklearn/utils/deprecation.py:151: FutureWarning: 'force_all_finite' was renamed to 'ensure_all_finite' in 1.6 and will be removed in 1.8.\n",
            "  warnings.warn(\n"
          ]
        },
        {
          "output_type": "stream",
          "name": "stdout",
          "text": [
            "[LightGBM] [Info] Auto-choosing col-wise multi-threading, the overhead of testing was 0.003270 seconds.\n",
            "You can set `force_col_wise=true` to remove the overhead.\n",
            "[LightGBM] [Info] Total Bins 1785\n",
            "[LightGBM] [Info] Number of data points in the train set: 24618, number of used features: 7\n",
            "[LightGBM] [Info] Start training from score -1.619768\n",
            "[LightGBM] [Info] Start training from score -1.594840\n",
            "[LightGBM] [Info] Start training from score -1.615877\n",
            "[LightGBM] [Info] Start training from score -1.604899\n",
            "[LightGBM] [Info] Start training from score -1.612000\n",
            "LightGBM - Melhor configuração: {'n_estimators': 200, 'max_depth': 10, 'learning_rate': 0.1}\n"
          ]
        },
        {
          "output_type": "stream",
          "name": "stderr",
          "text": [
            "/usr/local/lib/python3.11/dist-packages/sklearn/model_selection/_search.py:317: UserWarning: The total space of parameters 1 is smaller than n_iter=4. Running 1 iterations. For exhaustive searches, use GridSearchCV.\n",
            "  warnings.warn(\n"
          ]
        },
        {
          "output_type": "stream",
          "name": "stdout",
          "text": [
            "CatBoost - Melhor configuração: {'learning_rate': 0.1, 'iterations': 200, 'depth': 10}\n",
            "[LightGBM] [Info] Auto-choosing col-wise multi-threading, the overhead of testing was 0.001789 seconds.\n",
            "You can set `force_col_wise=true` to remove the overhead.\n",
            "[LightGBM] [Info] Total Bins 1785\n",
            "[LightGBM] [Info] Number of data points in the train set: 24618, number of used features: 7\n",
            "[LightGBM] [Info] Start training from score -1.619768\n",
            "[LightGBM] [Info] Start training from score -1.594840\n",
            "[LightGBM] [Info] Start training from score -1.615877\n",
            "[LightGBM] [Info] Start training from score -1.604899\n",
            "[LightGBM] [Info] Start training from score -1.612000\n"
          ]
        },
        {
          "output_type": "stream",
          "name": "stderr",
          "text": [
            "/usr/local/lib/python3.11/dist-packages/sklearn/utils/deprecation.py:151: FutureWarning: 'force_all_finite' was renamed to 'ensure_all_finite' in 1.6 and will be removed in 1.8.\n",
            "  warnings.warn(\n",
            "/usr/local/lib/python3.11/dist-packages/xgboost/core.py:158: UserWarning: [17:39:03] WARNING: /workspace/src/learner.cc:740: \n",
            "Parameters: { \"use_label_encoder\" } are not used.\n",
            "\n",
            "  warnings.warn(smsg, UserWarning)\n"
          ]
        },
        {
          "output_type": "stream",
          "name": "stdout",
          "text": [
            "\n",
            "Modelo salvo com sucesso!\n"
          ]
        },
        {
          "output_type": "stream",
          "name": "stderr",
          "text": [
            "/usr/local/lib/python3.11/dist-packages/sklearn/utils/deprecation.py:151: FutureWarning: 'force_all_finite' was renamed to 'ensure_all_finite' in 1.6 and will be removed in 1.8.\n",
            "  warnings.warn(\n",
            "/usr/local/lib/python3.11/dist-packages/sklearn/utils/deprecation.py:151: FutureWarning: 'force_all_finite' was renamed to 'ensure_all_finite' in 1.6 and will be removed in 1.8.\n",
            "  warnings.warn(\n"
          ]
        },
        {
          "output_type": "stream",
          "name": "stdout",
          "text": [
            "\n",
            "Voting Classifier:\n",
            "Acurácia: 0.9674628320740921\n",
            "AUC-ROC: 0.9988781893845425\n",
            "F1-Score: 0.9674284946137722\n",
            "              precision    recall  f1-score   support\n",
            "\n",
            "           0       0.96      0.94      0.95      4873\n",
            "           1       0.97      0.97      0.97      4996\n",
            "           2       0.97      0.97      0.97      4892\n",
            "           3       0.97      0.98      0.98      4946\n",
            "           4       0.97      0.97      0.97      4911\n",
            "\n",
            "    accuracy                           0.97     24618\n",
            "   macro avg       0.97      0.97      0.97     24618\n",
            "weighted avg       0.97      0.97      0.97     24618\n",
            "\n"
          ]
        },
        {
          "output_type": "display_data",
          "data": {
            "text/plain": [
              "<Figure size 640x480 with 2 Axes>"
            ],
            "image/png": "[encoded data removed]"
          },
          "metadata": {}
        }
      ],
      "source": [
        "import pandas as pd\n",
        "import numpy as np\n",
        "import joblib\n",
        "import matplotlib.pyplot as plt\n",
        "import seaborn as sns\n",
        "from sklearn.model_selection import train_test_split, StratifiedKFold, RandomizedSearchCV\n",
        "from sklearn.preprocessing import StandardScaler\n",
        "from sklearn.metrics import accuracy_score, classification_report, roc_auc_score, f1_score, confusion_matrix, ConfusionMatrixDisplay\n",
        "from sklearn.decomposition import PCA\n",
        "from sklearn.cluster import KMeans\n",
        "from imblearn.over_sampling import ADASYN\n",
        "from xgboost import XGBClassifier\n",
        "from lightgbm import LGBMClassifier\n",
        "from catboost import CatBoostClassifier\n",
        "from sklearn.ensemble import RandomForestClassifier, VotingClassifier\n",
        "\n",
        "# Carregar os dados\n",
        "dados = pd.read_csv(\"treino.csv\")\n",
        "dados = dados.drop(columns=[\"id\"])  # Removendo ID para treinamento\n",
        "\n",
        "dados.columns = [\n",
        "    \"TempMédia\", \"Gravidade\", \"PressãoAtm\", \"Radiação\", \"ComposiçãoAr\", \"Hidratação\",\n",
        "    \"Vegetação\", \"Fauna\", \"SoloFértil\", \"Ventos\", \"Luas\", \"Magnetismo\", \"ClimaEstável\", \"target\"\n",
        "]\n",
        "\n",
        "# Criar novas features\n",
        "def criar_features(df):\n",
        "    df[\"TempPressão\"] = df[\"TempMédia\"] * df[\"PressãoAtm\"]\n",
        "    df[\"GravidadeRadiação\"] = df[\"Gravidade\"] * df[\"Radiação\"]\n",
        "    df[\"MédiaSoloVegetação\"] = (df[\"SoloFértil\"] + df[\"Vegetação\"]) / 2\n",
        "    df[\"InteraçãoFaunaClima\"] = df[\"Fauna\"] * df[\"ClimaEstável\"]\n",
        "    df[\"InteraçãoMagnetismoGravidade\"] = df[\"Magnetismo\"] * df[\"Gravidade\"]\n",
        "\n",
        "    # Clusterização para capturar padrões ocultos\n",
        "    kmeans = KMeans(n_clusters=5, random_state=42)\n",
        "    df['Cluster'] = kmeans.fit_predict(df.drop(columns=[\"target\"]))\n",
        "\n",
        "    return df\n",
        "\n",
        "dados = criar_features(dados)\n",
        "\n",
        "# Tratamento de outliers\n",
        "from scipy.stats import zscore\n",
        "z_scores = np.abs(zscore(dados.drop(columns=[\"target\"])))\n",
        "dados = dados[(z_scores < 3).all(axis=1)]\n",
        "\n",
        "# Balanceamento de classes\n",
        "X = dados.drop(columns=['target'])\n",
        "y = dados['target']\n",
        "adasyn = ADASYN(random_state=42)\n",
        "X_res, y_res = adasyn.fit_resample(X, y)\n",
        "\n",
        "# Padronização\n",
        "scaler = StandardScaler()\n",
        "X_scaled = scaler.fit_transform(X_res)\n",
        "\n",
        "# Redução de dimensionalidade\n",
        "pca = PCA(n_components=0.95)\n",
        "X_pca = pca.fit_transform(X_scaled)\n",
        "\n",
        "# Cross-validation estratificada\n",
        "cv = StratifiedKFold(n_splits=5, shuffle=True, random_state=42)\n",
        "\n",
        "# Modelos e hiperparâmetros\n",
        "models = {\n",
        "    \"XGBoost\": XGBClassifier(use_label_encoder=False, eval_metric='mlogloss', random_state=42),\n",
        "    \"LightGBM\": LGBMClassifier(random_state=42),\n",
        "    \"CatBoost\": CatBoostClassifier(verbose=0, random_state=42)\n",
        "}\n",
        "\n",
        "tuned_params = {\n",
        "    \"XGBoost\": {'n_estimators': [200], 'max_depth': [10], 'learning_rate': [0.2]},\n",
        "    \"LightGBM\": {'n_estimators': [200], 'max_depth': [10], 'learning_rate': [0.1]},\n",
        "    \"CatBoost\": {'iterations': [200], 'depth': [10], 'learning_rate': [0.1]}\n",
        "}\n",
        "\n",
        "best_models = {}\n",
        "for name, model in models.items():\n",
        "    search = RandomizedSearchCV(model, tuned_params[name], n_iter=4, cv=cv, scoring='f1_weighted', random_state=42, n_jobs=-1)\n",
        "    search.fit(X_pca, y_res)\n",
        "    best_models[name] = search.best_estimator_\n",
        "    print(f\"{name} - Melhor configuração: {search.best_params_}\")\n",
        "\n",
        "# Criar Voting Classifier\n",
        "eclf = VotingClassifier(\n",
        "    estimators=[\n",
        "        (\"LightGBM\", best_models[\"LightGBM\"]),\n",
        "        (\"CatBoost\", best_models[\"CatBoost\"]),\n",
        "        (\"XGBoost\", best_models[\"XGBoost\"])\n",
        "    ],\n",
        "    voting=\"soft\",\n",
        "    weights=[2, 3, 1]  # Ajuste do peso do CatBoost\n",
        ")\n",
        "\n",
        "eclf.fit(X_pca, y_res)\n",
        "\n",
        "# Salvar o modelo treinado\n",
        "joblib.dump(eclf, \"modelo_voting.pkl\")\n",
        "joblib.dump(scaler, \"scaler.pkl\")\n",
        "joblib.dump(pca, \"pca.pkl\")\n",
        "\n",
        "print(\"\\nModelo salvo com sucesso!\")\n",
        "\n",
        "# Avaliação do modelo\n",
        "y_pred = eclf.predict(X_pca)\n",
        "y_pred_proba = eclf.predict_proba(X_pca)\n",
        "\n",
        "print(\"\\nVoting Classifier:\")\n",
        "print(\"Acurácia:\", accuracy_score(y_res, y_pred))\n",
        "print(\"AUC-ROC:\", roc_auc_score(y_res, y_pred_proba, multi_class='ovr'))\n",
        "print(\"F1-Score:\", f1_score(y_res, y_pred, average='weighted'))\n",
        "print(classification_report(y_res, y_pred))\n",
        "cm = confusion_matrix(y_res, y_pred)\n",
        "ConfusionMatrixDisplay(cm).plot()\n",
        "plt.title(\"Matriz de Confusão - Voting Classifier\")\n",
        "plt.show()\n"
      ]
    },
    {
      "cell_type": "markdown",
      "source": [
        "Script com a saída dos resultados em csv"
      ],
      "metadata": {
        "id": "QOpGFHG1A5zX"
      }
    },
    {
      "cell_type": "code",
      "source": [
        "\n",
        "# Carregar modelo, scaler e PCA\n",
        "eclf = joblib.load(\"modelo_voting.pkl\")\n",
        "scaler = joblib.load(\"scaler.pkl\")\n",
        "pca = joblib.load(\"pca.pkl\")\n",
        "\n",
        "# Carregar a base de teste\n",
        "teste = pd.read_csv(\"teste.csv\")\n",
        "\n",
        "# Salvar o ID para o arquivo final\n",
        "ids = teste[\"id\"]\n",
        "\n",
        "# Remover a coluna ID para predição\n",
        "teste = teste.drop(columns=[\"id\"])\n",
        "\n",
        "teste.columns = [\n",
        "    \"TempMédia\", \"Gravidade\", \"PressãoAtm\", \"Radiação\", \"ComposiçãoAr\", \"Hidratação\",\n",
        "    \"Vegetação\", \"Fauna\", \"SoloFértil\", \"Ventos\", \"Luas\", \"Magnetismo\", \"ClimaEstável\"\n",
        "]\n",
        "\n",
        "# Aplicar as mesmas features engineering usadas no treino\n",
        "def criar_features(df):\n",
        "    df[\"TempPressão\"] = df[\"TempMédia\"] * df[\"PressãoAtm\"]\n",
        "    df[\"GravidadeRadiação\"] = df[\"Gravidade\"] * df[\"Radiação\"]\n",
        "    df[\"MédiaSoloVegetação\"] = (df[\"SoloFértil\"] + df[\"Vegetação\"]) / 2\n",
        "    df[\"InteraçãoFaunaClima\"] = df[\"Fauna\"] * df[\"ClimaEstável\"]\n",
        "    df[\"InteraçãoMagnetismoGravidade\"] = df[\"Magnetismo\"] * df[\"Gravidade\"]\n",
        "\n",
        "    # Cluster foi gerado no treino, precisamos recriá-lo aqui:\n",
        "    df[\"Cluster\"] = (df[\"Gravidade\"] * df[\"Radiação\"] + df[\"Fauna\"] * df[\"SoloFértil\"]).round(1)\n",
        "\n",
        "    return df\n",
        "\n",
        "\n",
        "teste = criar_features(teste)\n",
        "\n",
        "# Padronizar os dados\n",
        "X_scaled = scaler.transform(teste)\n",
        "\n",
        "# Aplicar a redução de dimensionalidade com PCA\n",
        "X_pca = pca.transform(X_scaled)\n",
        "\n",
        "# Realizar a predição\n",
        "y_pred = eclf.predict(X_pca)\n",
        "\n",
        "# Criar o DataFrame final\n",
        "resultado = pd.DataFrame({\n",
        "    \"id\": ids,\n",
        "    \"target\": y_pred\n",
        "})\n",
        "\n",
        "# Salvar o arquivo CSV\n",
        "resultado.to_csv(\"ultimate.csv\", index=False)\n",
        "\n",
        "print(\"Arquivo de predição salvo com sucesso: ultimate.csv\")\n",
        "\n"
      ],
      "metadata": {
        "colab": {
          "base_uri": "https://localhost:8080/"
        },
        "id": "YdKEbqhoA_Yk",
        "outputId": "107efe06-801a-4814-e092-67995677ed63"
      },
      "execution_count": 11,
      "outputs": [
        {
          "output_type": "stream",
          "name": "stderr",
          "text": [
            "/usr/local/lib/python3.11/dist-packages/sklearn/utils/deprecation.py:151: FutureWarning: 'force_all_finite' was renamed to 'ensure_all_finite' in 1.6 and will be removed in 1.8.\n",
            "  warnings.warn(\n"
          ]
        },
        {
          "output_type": "stream",
          "name": "stdout",
          "text": [
            "Arquivo de predição salvo com sucesso: ultimate.csv\n"
          ]
        }
      ]
    }
  ]
}